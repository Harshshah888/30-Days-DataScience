{
 "cells": [
  {
   "cell_type": "markdown",
   "id": "f63742eb-9f88-4515-86b2-e42e6e469b05",
   "metadata": {},
   "source": [
    "# 30 Day Chalange \n",
    "## Day 1"
   ]
  },
  {
   "cell_type": "code",
   "execution_count": 6,
   "id": "bc72b77c-f51b-400c-ba70-94cac7ee86e7",
   "metadata": {},
   "outputs": [
    {
     "name": "stdout",
     "output_type": "stream",
     "text": [
      "My 30 days Data Science Chalange\n"
     ]
    }
   ],
   "source": [
    "print(\"My 30 days Data Science Chalange\")"
   ]
  },
  {
   "cell_type": "markdown",
   "id": "75385713-6712-431d-8dbf-1ae2125bbb52",
   "metadata": {},
   "source": [
    "## Vraible\n",
    "* A variable is a name that refers to a value stored in memory.\n",
    "* Think of it as a container that holds data like a number or string.\n"
   ]
  },
  {
   "cell_type": "code",
   "execution_count": 31,
   "id": "3fa5c16f-0e1a-4a36-b5bd-a7b101020300",
   "metadata": {},
   "outputs": [
    {
     "name": "stdout",
     "output_type": "stream",
     "text": [
      "Harsh Shah\n"
     ]
    }
   ],
   "source": [
    "#Assighning the varible name.\n",
    "name = \"Harsh Shah\"\n",
    "num = 245\n",
    "print(name)\n"
   ]
  },
  {
   "cell_type": "code",
   "execution_count": 29,
   "id": "96a8079c-9755-48aa-8d2a-e9ba4e7bfbb7",
   "metadata": {},
   "outputs": [
    {
     "data": {
      "text/plain": [
       "str"
      ]
     },
     "execution_count": 29,
     "metadata": {},
     "output_type": "execute_result"
    }
   ],
   "source": [
    "#we can actualy find the data type of the variable thrpugh this.\n",
    "type(name)\n"
   ]
  },
  {
   "cell_type": "markdown",
   "id": "1fcebf91-6ac7-42d9-98fd-9314685b12f2",
   "metadata": {},
   "source": [
    "# 1.Data Types\n",
    "* Data type defines what kind of value a variable holds (e.g., number, text, list).\n",
    "* Python automatically assigns data types when you assign a value."
   ]
  },
  {
   "cell_type": "code",
   "execution_count": 37,
   "id": "db5475d7-8ecc-4229-ba87-a7f081d96888",
   "metadata": {},
   "outputs": [
    {
     "name": "stdout",
     "output_type": "stream",
     "text": [
      "2543\n"
     ]
    }
   ],
   "source": [
    "#this is declaring variable as integer \n",
    "integer_varaible = 2543\n",
    "print (integer_varaible)"
   ]
  },
  {
   "cell_type": "code",
   "execution_count": 39,
   "id": "dba6ab80-78cc-47e2-9415-f3b6b0a49e7f",
   "metadata": {},
   "outputs": [
    {
     "name": "stdout",
     "output_type": "stream",
     "text": [
      "123.89\n"
     ]
    }
   ],
   "source": [
    "#This is declaring Float Varible \n",
    "flot_variable =123.89\n",
    "print(flot_variable)"
   ]
  },
  {
   "cell_type": "code",
   "execution_count": 44,
   "id": "00aec611-4f59-422f-a234-f3c048fa3d58",
   "metadata": {},
   "outputs": [
    {
     "data": {
      "text/plain": [
       "bool"
      ]
     },
     "execution_count": 44,
     "metadata": {},
     "output_type": "execute_result"
    }
   ],
   "source": [
    "# this is declaring Bollean Variable \n",
    "boll_variable = True\n",
    "type(boll_variable)"
   ]
  },
  {
   "cell_type": "code",
   "execution_count": 62,
   "id": "dbb3f715-4fc0-42c2-b596-d8e62a48f1df",
   "metadata": {},
   "outputs": [
    {
     "name": "stdout",
     "output_type": "stream",
     "text": [
      "[0, 2]\n"
     ]
    }
   ],
   "source": [
    "#list it is also called an array.\n",
    "list_variable = [0,2]\n",
    "print(list_variable)\n"
   ]
  },
  {
   "cell_type": "code",
   "execution_count": 68,
   "id": "f1ffd791-061a-48c3-8eac-e867861c2f3a",
   "metadata": {},
   "outputs": [
    {
     "data": {
      "text/plain": [
       "[0, 3]"
      ]
     },
     "execution_count": 68,
     "metadata": {},
     "output_type": "execute_result"
    }
   ],
   "source": [
    "list_variable[1]=3\n",
    "list_variable"
   ]
  },
  {
   "cell_type": "markdown",
   "id": "0043b756-66ed-40e2-95f7-bfd64201d06a",
   "metadata": {},
   "source": [
    "# Tuple\n",
    "* A tuple is an ordered, unchangeable collection of items, enclosed in parentheses ().\n",
    "* Use a tuple when you don’t want the values to be changed.\n"
   ]
  },
  {
   "cell_type": "code",
   "execution_count": 76,
   "id": "64b78425-b81f-44cb-aeab-e12589698926",
   "metadata": {},
   "outputs": [
    {
     "data": {
      "text/plain": [
       "tuple"
      ]
     },
     "execution_count": 76,
     "metadata": {},
     "output_type": "execute_result"
    }
   ],
   "source": [
    "#creating tuple variable (It is IMUTABLE)\n",
    "tuple_variable =(9,2,4,6,23,54,99.99)\n",
    "type(tuple_variable)\n"
   ]
  },
  {
   "cell_type": "code",
   "execution_count": 78,
   "id": "2706af0d-83c8-45eb-bd56-201f14ccdf7e",
   "metadata": {},
   "outputs": [
    {
     "ename": "SyntaxError",
     "evalue": "cannot assign to function call here. Maybe you meant '==' instead of '='? (254680082.py, line 2)",
     "output_type": "error",
     "traceback": [
      "\u001b[0;36m  Cell \u001b[0;32mIn[78], line 2\u001b[0;36m\u001b[0m\n\u001b[0;31m    tuple_variable(1)= 3\u001b[0m\n\u001b[0m    ^\u001b[0m\n\u001b[0;31mSyntaxError\u001b[0m\u001b[0;31m:\u001b[0m cannot assign to function call here. Maybe you meant '==' instead of '='?\n"
     ]
    }
   ],
   "source": [
    "#ERROR we can not change the value so thats why it is called IMMUTABLE.\n",
    "tuple_variable(1)= 3 "
   ]
  },
  {
   "cell_type": "code",
   "execution_count": 90,
   "id": "7b47619d-79aa-4ec3-9b1c-fc8960054016",
   "metadata": {},
   "outputs": [
    {
     "name": "stdout",
     "output_type": "stream",
     "text": [
      "{2, 67, 3, 9, 45}\n"
     ]
    }
   ],
   "source": [
    "#this is creating set Variable (It is also IMMUTABLE + You can not add duplicate )\n",
    "set_variable={2,45,9,67,3,45}\n",
    "print(set_variable)"
   ]
  },
  {
   "cell_type": "code",
   "execution_count": 106,
   "id": "fe422b6d-9ddc-400b-825e-24ce626c6482",
   "metadata": {},
   "outputs": [
    {
     "name": "stdout",
     "output_type": "stream",
     "text": [
      "{'name': 'Harsh', 'date': 90}\n"
     ]
    }
   ],
   "source": [
    "#difining Dictionery variable(it has key and value )\n",
    "dict_variable = {'name':\"Harsh\",'date':90} \n",
    "print(dict_variable)"
   ]
  },
  {
   "cell_type": "code",
   "execution_count": 110,
   "id": "817f046c-1688-4641-b3b4-4bd04c0d0d10",
   "metadata": {},
   "outputs": [
    {
     "data": {
      "text/plain": [
       "'Harsh'"
      ]
     },
     "execution_count": 110,
     "metadata": {},
     "output_type": "execute_result"
    }
   ],
   "source": [
    "dict_variable['name']"
   ]
  },
  {
   "cell_type": "code",
   "execution_count": 112,
   "id": "e37f4b20-fcd4-477d-8517-c314c561f707",
   "metadata": {},
   "outputs": [
    {
     "data": {
      "text/plain": [
       "(0, 3)"
      ]
     },
     "execution_count": 112,
     "metadata": {},
     "output_type": "execute_result"
    }
   ],
   "source": [
    "#typecasting list to tuple \n",
    "tuple(list_variable)"
   ]
  },
  {
   "cell_type": "markdown",
   "id": "b3c1a883-cf59-4281-a1a1-ddb19b5417c1",
   "metadata": {},
   "source": [
    "# 2. List\n",
    "* A list is an ordered, changeable collection of items, enclosed in square brackets [].\n",
    "* Use a list when you want to store multiple items in a single variable. "
   ]
  },
  {
   "cell_type": "code",
   "execution_count": 119,
   "id": "a536d7a8-5da5-4079-9579-6ce500318b83",
   "metadata": {},
   "outputs": [],
   "source": [
    "#create\n",
    "name =['Harsh','Jaineel','Alpa','Jatin']"
   ]
  },
  {
   "cell_type": "code",
   "execution_count": 121,
   "id": "7032b37e-0e49-4a03-86fd-d8e2a9721f7a",
   "metadata": {},
   "outputs": [
    {
     "data": {
      "text/plain": [
       "['Harsh', 'Jaineel', 'Alpa', 'Jatin']"
      ]
     },
     "execution_count": 121,
     "metadata": {},
     "output_type": "execute_result"
    }
   ],
   "source": [
    "# Read\n",
    "name"
   ]
  },
  {
   "cell_type": "code",
   "execution_count": 123,
   "id": "79a0562d-f841-4b02-90a0-b36efb5f1a58",
   "metadata": {},
   "outputs": [
    {
     "data": {
      "text/plain": [
       "'Jatin'"
      ]
     },
     "execution_count": 123,
     "metadata": {},
     "output_type": "execute_result"
    }
   ],
   "source": [
    "name[-1]"
   ]
  },
  {
   "cell_type": "code",
   "execution_count": 125,
   "id": "56f78b41-36e8-4a55-8dcb-7c0ce50fb744",
   "metadata": {},
   "outputs": [
    {
     "data": {
      "text/plain": [
       "4"
      ]
     },
     "execution_count": 125,
     "metadata": {},
     "output_type": "execute_result"
    }
   ],
   "source": [
    "len(name)"
   ]
  },
  {
   "cell_type": "code",
   "execution_count": 129,
   "id": "58326eb1-94e6-44aa-ae51-4289bbc861e8",
   "metadata": {},
   "outputs": [
    {
     "data": {
      "text/plain": [
       "['Harsh', 'Ravan', 'Alpa', 'Jatin']"
      ]
     },
     "execution_count": 129,
     "metadata": {},
     "output_type": "execute_result"
    }
   ],
   "source": [
    "# Update\n",
    "name[1]='Ravan'\n",
    "name"
   ]
  },
  {
   "cell_type": "code",
   "execution_count": 133,
   "id": "c57d434c-ea95-478c-8978-da9794878f29",
   "metadata": {},
   "outputs": [
    {
     "data": {
      "text/plain": [
       "['Harsh', 'Ravan', 'Alpa', 'Jatin', 'Jaineel', 'Jaineel']"
      ]
     },
     "execution_count": 133,
     "metadata": {},
     "output_type": "execute_result"
    }
   ],
   "source": [
    "#append to add back Jaineel again in the list .\n",
    "name.append('Jaineel')\n",
    "name"
   ]
  },
  {
   "cell_type": "code",
   "execution_count": 143,
   "id": "21295014-1c41-4b5d-95f9-23f204dc8f07",
   "metadata": {},
   "outputs": [],
   "source": [
    "name.insert(0,'Rajnikant')\n"
   ]
  },
  {
   "cell_type": "code",
   "execution_count": 145,
   "id": "31f69b57-ae2c-4b27-b7b8-c32b45140fb3",
   "metadata": {},
   "outputs": [
    {
     "data": {
      "text/plain": [
       "['Rajnikant',\n",
       " 'Rajnikant',\n",
       " 'Rajnikant',\n",
       " 'Rajnikant',\n",
       " 'Rajnikant',\n",
       " 'Harsh',\n",
       " 'Ravan',\n",
       " 'Alpa',\n",
       " 'Jatin',\n",
       " 'Jaineel',\n",
       " 'Jaineel']"
      ]
     },
     "execution_count": 145,
     "metadata": {},
     "output_type": "execute_result"
    }
   ],
   "source": [
    "name"
   ]
  },
  {
   "cell_type": "code",
   "execution_count": 159,
   "id": "b2702d66-0a01-4924-9058-efa12dfd1d29",
   "metadata": {},
   "outputs": [
    {
     "data": {
      "text/plain": [
       "['Rajnikant', 'Harsh', 'Ravan', 'Alpa', 'Jatin', 'Jaineel']"
      ]
     },
     "execution_count": 159,
     "metadata": {},
     "output_type": "execute_result"
    }
   ],
   "source": [
    "#Delete\n",
    "del name[-1]\n",
    "name"
   ]
  },
  {
   "cell_type": "markdown",
   "id": "a0d1c7b6-d35d-4a13-9bc7-67c7750d7ba0",
   "metadata": {},
   "source": [
    "# 3. Dictionaries \n",
    "* A dictionary stores key-value pairs, is unordered, and is changeable. Uses curly braces {}\n",
    "* Use a dictionary when you want to label data."
   ]
  },
  {
   "cell_type": "code",
   "execution_count": 162,
   "id": "c01a7381-1f62-4484-af92-c46e140fbbce",
   "metadata": {},
   "outputs": [],
   "source": [
    "#create\n",
    "family ={'name':\"Harsh\", 'role':\"Son\",'Occupation':\"Student\"}\n",
    "\n"
   ]
  },
  {
   "cell_type": "code",
   "execution_count": 164,
   "id": "cc12922b-817a-43f6-b262-2e3e00c16210",
   "metadata": {},
   "outputs": [
    {
     "data": {
      "text/plain": [
       "{'name': 'Harsh', 'role': 'Son', 'Occupation': 'Student'}"
      ]
     },
     "execution_count": 164,
     "metadata": {},
     "output_type": "execute_result"
    }
   ],
   "source": [
    "#read\n",
    "family"
   ]
  },
  {
   "cell_type": "code",
   "execution_count": 166,
   "id": "801fdb8c-9000-478b-929c-cdd9adef59d0",
   "metadata": {},
   "outputs": [
    {
     "data": {
      "text/plain": [
       "'Harsh'"
      ]
     },
     "execution_count": 166,
     "metadata": {},
     "output_type": "execute_result"
    }
   ],
   "source": [
    "family['name']"
   ]
  },
  {
   "cell_type": "code",
   "execution_count": 168,
   "id": "29b4b401-5190-41f1-85d7-7ec6ae3a5056",
   "metadata": {},
   "outputs": [
    {
     "data": {
      "text/plain": [
       "dict_keys(['name', 'role', 'Occupation'])"
      ]
     },
     "execution_count": 168,
     "metadata": {},
     "output_type": "execute_result"
    }
   ],
   "source": [
    "family.keys()"
   ]
  },
  {
   "cell_type": "code",
   "execution_count": 176,
   "id": "9a5489fd-e312-401f-a1a9-9f9743d1c94c",
   "metadata": {},
   "outputs": [
    {
     "data": {
      "text/plain": [
       "{'name': 'Harsh', 'role': 'Father', 'Occupation': 'Student'}"
      ]
     },
     "execution_count": 176,
     "metadata": {},
     "output_type": "execute_result"
    }
   ],
   "source": [
    "#update\n",
    "family['role']='Father'\n",
    "family"
   ]
  },
  {
   "cell_type": "code",
   "execution_count": 182,
   "id": "58682fb0-6852-478b-be90-e51d535c13f6",
   "metadata": {},
   "outputs": [
    {
     "data": {
      "text/plain": [
       "{'Occupation': 'Student'}"
      ]
     },
     "execution_count": 182,
     "metadata": {},
     "output_type": "execute_result"
    }
   ],
   "source": [
    "#delete\n",
    "del family['name']\n",
    "family\n"
   ]
  },
  {
   "cell_type": "markdown",
   "id": "8867e984-93a7-46d3-a2f5-d52029aaeeb7",
   "metadata": {},
   "source": [
    "# Difference Between List, Set & Tuple\n",
    "| Feature    | List      | Tuple     | Set           |\n",
    "| ---------- | --------- | --------- | ------------- |\n",
    "| Ordered    | ✅ Yes     | ✅ Yes     | ❌ No          |\n",
    "| Duplicates | ✅ Allowed | ✅ Allowed | ❌ Not Allowed |\n",
    "| Mutable    | ✅ Yes     | ❌ No      | ✅ Yes         |\n",
    "| Syntax     | `[1,2,3]` | `(1,2,3)` | `{1,2,3}`     |\n"
   ]
  },
  {
   "cell_type": "markdown",
   "id": "614dc50d-3dc5-4c5c-a2ec-a9ff24afe155",
   "metadata": {},
   "source": [
    "### 📝 **Summary**\n",
    "\n",
    "* Variables are used to store data values.\n",
    "\n",
    "* Data types define the kind of data (like numbers, text, lists, etc.).\n",
    "\n",
    "* List: Ordered, changeable, allows duplicates – use square brackets [].\n",
    "\n",
    "* Tuple: Ordered, unchangeable, allows duplicates – use parentheses ().\n",
    "\n",
    "* Set: Unordered, changeable, no duplicates – use curly braces {}.\n",
    "\n",
    "* Dictionary: Stores key-value pairs, changeable, unordered – use curly braces {}.\n",
    "\n",
    "###  Use lists for flexible sequences,\n",
    "### tuples for fixed data, \n",
    "### sets for unique items, \n",
    "### dictionaries to map keys to values\n"
   ]
  }
 ],
 "metadata": {
  "kernelspec": {
   "display_name": "Python [conda env:base] *",
   "language": "python",
   "name": "conda-base-py"
  },
  "language_info": {
   "codemirror_mode": {
    "name": "ipython",
    "version": 3
   },
   "file_extension": ".py",
   "mimetype": "text/x-python",
   "name": "python",
   "nbconvert_exporter": "python",
   "pygments_lexer": "ipython3",
   "version": "3.12.7"
  }
 },
 "nbformat": 4,
 "nbformat_minor": 5
}
