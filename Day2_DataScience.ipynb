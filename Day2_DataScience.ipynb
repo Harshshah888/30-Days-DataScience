{
 "cells": [
  {
   "cell_type": "markdown",
   "id": "de5e2f63-c678-48be-9939-7a6af8c98efc",
   "metadata": {},
   "source": [
    "## Day2 Data Science "
   ]
  },
  {
   "cell_type": "markdown",
   "id": "f4ab438b-7af0-449d-9175-101c3b8291af",
   "metadata": {},
   "source": [
    "## Conditions and Logic "
   ]
  },
  {
   "cell_type": "code",
   "execution_count": 15,
   "id": "53f0a378-e41f-450f-9d72-4a9513117a6f",
   "metadata": {},
   "outputs": [
    {
     "name": "stdout",
     "output_type": "stream",
     "text": [
      "Hii\n"
     ]
    }
   ],
   "source": [
    "# Applying Logic using the if statment \n",
    "name = 'Harsh Shah'\n",
    "if name == 'Harsh Shah':\n",
    "    print('Hii')\n",
    "else :\n",
    "    print ('wrong name ')"
   ]
  },
  {
   "cell_type": "code",
   "execution_count": 26,
   "id": "a703036e-0ee5-4d5f-85fa-64defebc68cd",
   "metadata": {},
   "outputs": [
    {
     "name": "stdout",
     "output_type": "stream",
     "text": [
      "Jatin's is there\n"
     ]
    }
   ],
   "source": [
    "#create a list of names \n",
    "name = ['Harsh Shah ','Jatin Shah','Alpa Shah','Jaineel Shah ']\n",
    "if 'Jatin Shah' in name:\n",
    "    #using python escapes\n",
    "    print('Jatin\\'s is there')"
   ]
  },
  {
   "cell_type": "markdown",
   "id": "56af7d6f-a454-430a-a798-a5f2de7bab3e",
   "metadata": {},
   "source": [
    "## Loops"
   ]
  },
  {
   "cell_type": "code",
   "execution_count": 28,
   "id": "9cd2170d-6008-4889-b181-dbb3190f56ad",
   "metadata": {},
   "outputs": [
    {
     "name": "stdout",
     "output_type": "stream",
     "text": [
      "Harsh Shah \n",
      "Jatin Shah\n",
      "Alpa Shah\n",
      "Jaineel Shah \n"
     ]
    }
   ],
   "source": [
    "#for loop\n",
    "for name in name : \n",
    "    print(name)\n"
   ]
  },
  {
   "cell_type": "code",
   "execution_count": 5,
   "id": "d4bcaa5f-18bf-4b94-adeb-52d7fa0a243f",
   "metadata": {},
   "outputs": [
    {
     "name": "stdout",
     "output_type": "stream",
     "text": [
      "0\n",
      "1\n",
      "2\n",
      "3\n",
      "4\n",
      "5\n",
      "6\n",
      "7\n",
      "8\n",
      "9\n"
     ]
    }
   ],
   "source": [
    "#range for the set number of time. \n",
    "for idx in range(10):\n",
    "    print(idx)"
   ]
  },
  {
   "cell_type": "code",
   "execution_count": 23,
   "id": "140f141d-c392-4ee6-a318-4be3b38c280f",
   "metadata": {},
   "outputs": [
    {
     "name": "stdout",
     "output_type": "stream",
     "text": [
      "shuttule launch\n",
      "shuttule launch\n",
      "shuttule launch\n",
      "shuttule launch\n",
      "shuttule launch\n",
      "all the shuttule launch\n"
     ]
    }
   ],
   "source": [
    "launch= 0\n",
    "total = 5\n",
    "\n",
    "while True:\n",
    "    print ('shuttule launch')\n",
    "    launch +=1\n",
    "    if launch == total :\n",
    "        print ('all the shuttule launch')\n",
    "        break\n"
   ]
  },
  {
   "cell_type": "code",
   "execution_count": 29,
   "id": "21ff4485-799d-4835-9949-1cdb6599db7b",
   "metadata": {},
   "outputs": [],
   "source": [
    "family = {\n",
    "    \"name\": 'Harsh Shah',\n",
    "    \"role\": 'son',\n",
    "    \"age\": 21\n",
    "}\n"
   ]
  },
  {
   "cell_type": "code",
   "execution_count": 33,
   "id": "3d87b8c8-08f1-49c4-8a47-6deb2ed88744",
   "metadata": {},
   "outputs": [
    {
     "data": {
      "text/plain": [
       "dict_values(['Harsh Shah', 'son', 21])"
      ]
     },
     "execution_count": 33,
     "metadata": {},
     "output_type": "execute_result"
    }
   ],
   "source": [
    "#accessing dictionery keys \n",
    "family.keys()\n",
    "family.values()"
   ]
  },
  {
   "cell_type": "code",
   "execution_count": 37,
   "id": "9c6bde71-1166-40c6-b1bb-f4b652c4b507",
   "metadata": {},
   "outputs": [
    {
     "name": "stdout",
     "output_type": "stream",
     "text": [
      "Harsh Shah\n",
      "son\n",
      "21\n"
     ]
    }
   ],
   "source": [
    "#loop through dictionery\n",
    "for value in family.values():\n",
    "    print(value)\n"
   ]
  },
  {
   "cell_type": "code",
   "execution_count": 39,
   "id": "fb145e8c-2d8a-4c16-b0e0-76af34690c4e",
   "metadata": {},
   "outputs": [
    {
     "data": {
      "text/plain": [
       "dict_items([('name', 'Harsh Shah'), ('role', 'son'), ('age', 21)])"
      ]
     },
     "execution_count": 39,
     "metadata": {},
     "output_type": "execute_result"
    }
   ],
   "source": [
    "family.items()"
   ]
  },
  {
   "cell_type": "code",
   "execution_count": 41,
   "id": "9a09d9cc-402b-4af9-bb99-3d3d54c0a2f5",
   "metadata": {},
   "outputs": [
    {
     "name": "stdout",
     "output_type": "stream",
     "text": [
      "name\n",
      "Harsh Shah \n",
      "\n",
      "role\n",
      "son \n",
      "\n",
      "age\n",
      "21 \n",
      "\n"
     ]
    }
   ],
   "source": [
    "#loop through key and value \n",
    "for key , value in family.items():\n",
    "    print(key)\n",
    "    print(value,'\\n')"
   ]
  }
 ],
 "metadata": {
  "kernelspec": {
   "display_name": "Python [conda env:base] *",
   "language": "python",
   "name": "conda-base-py"
  },
  "language_info": {
   "codemirror_mode": {
    "name": "ipython",
    "version": 3
   },
   "file_extension": ".py",
   "mimetype": "text/x-python",
   "name": "python",
   "nbconvert_exporter": "python",
   "pygments_lexer": "ipython3",
   "version": "3.12.7"
  }
 },
 "nbformat": 4,
 "nbformat_minor": 5
}
